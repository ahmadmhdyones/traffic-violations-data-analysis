{
 "cells": [
  {
   "cell_type": "markdown",
   "metadata": {},
   "source": [
    "Import packages:\n",
    "* NumPy\n",
    "* Pandas\n",
    "* Pandas Profiling\n",
    "* D-Tale"
   ]
  },
  {
   "cell_type": "code",
   "execution_count": 3,
   "metadata": {},
   "outputs": [],
   "source": [
    "import dtale\n",
    "import numpy as np\n",
    "import pandas as pd\n",
    "import pandas_profiling as pp"
   ]
  },
  {
   "cell_type": "markdown",
   "metadata": {},
   "source": [
    "Import data source from excel file"
   ]
  },
  {
   "cell_type": "code",
   "execution_count": null,
   "metadata": {},
   "outputs": [],
   "source": [
    "file = \"../data/VIO_v4.6.xlsx\"\n",
    "df = pd.read_excel(file, \"data\")\n",
    "df.info()"
   ]
  },
  {
   "cell_type": "markdown",
   "metadata": {},
   "source": [
    "Export to excel file"
   ]
  },
  {
   "cell_type": "code",
   "execution_count": 130,
   "metadata": {},
   "outputs": [],
   "source": [
    "file_name = \"./data/VIO_newversion.xlsx\"\n",
    "df.to_excel(file_name)"
   ]
  },
  {
   "cell_type": "markdown",
   "metadata": {},
   "source": [
    "Generating index column"
   ]
  },
  {
   "cell_type": "code",
   "execution_count": 5,
   "metadata": {},
   "outputs": [],
   "source": [
    "df['key'] = \"\"\n",
    "counter = 1\n",
    "for ind in df.index:\n",
    "    df.iloc[ind, 0] = counter\n",
    "    counter += 1"
   ]
  },
  {
   "cell_type": "markdown",
   "metadata": {},
   "source": [
    "Change `datatime` format:\n",
    "* **`%a`**\tAbbreviated weekday name (Sun, Mon, ...)\n",
    "* **`%A`**\tFull weekday name (Sunday, Monday, ...)\n",
    "* **`%w`**\tWeekday as a decimal number (0, 1, ..., 6)\n",
    "* **`%d`** Day of the month as a zero-padded decimal (01, 02, ..., 31)\n",
    "* **`%-d`** Day of the month as a decimal number (1, 2, ..., 31)\n",
    "* **`%b`**\tAbbreviated month name (Jan, Feb, ..., Dec)\n",
    "* **`%B`**\tFull month name (January, February, ...)\n",
    "* **`%m`** Month as a zero-padded decimal number (01, 02, ..., 12)\n",
    "* **`%-m`** Month as a decimal number (1, 2, ..., 12)\n",
    "* **`%y`**\tYear without century as a zero-padded decimal number (00, 01, ..., 99)\n",
    "* **`%-y`** Year without century as a decimal number (0, 1, ..., 99)\n",
    "* **`%Y`** Year with century as a decimal number (2014, 2015, ..., 2022)\n",
    "* **`%H`** Hour (24-hour clock) as a zero-padded decimal number (00, 01, ..., 23)\n",
    "* **`%-H`** Hour (24-hour clock) as a decimal number (0, 1, ..., 23)\n",
    "* **`%I`** Hour (12-hour clock) as a zero-padded decimal number (01, 02, ..., 12)\n",
    "* **`%-I`** Hour (12-hour clock) as a decimal number (1, 2, ... 12)\n",
    "* **`%p`** Locale’s AM or PM (AM, PM)\n",
    "* **`%M`** Minute as a zero-padded decimal number (00, 01, ..., 59)\n",
    "* **`%-M`** Minute as a decimal number (0, 1, ..., 59)\n",
    "* **`%S`** Second as a zero-padded decimal number (00, 01, ..., 59)\n",
    "* **`%-S`** Second as a decimal number (0, 1, ..., 59)\n",
    "* **`%f`** Microsecond as a decimal number, zero-padded on the left (000000 - 999999)\n",
    "* **`%z`** UTC offset in the form +HHMM or -HHMM.\t \n",
    "* **`%Z`** Time zone name.\t \n",
    "* **`%j`** Day of the year as a zero-padded decimal number (001, 002, ..., 366)\n",
    "* **`%-j`** Day of the year as a decimal number (1, 2, ..., 366)\n",
    "* **`%U`** Week number of the year (Sunday as the first day of the week). All days in a new year preceding the first Sunday are considered to be in week 0 (00, 01, ..., 53)\n",
    "* **`%W`** Week number of the year (Monday as the first day of the week). All days in a new year preceding the first Monday are considered to be in week 0 (00, 01, ..., 53)\n",
    "* **`%c`** Locale’s appropriate date and time representation (Mon Sep 30 07:06:05 2013)\n",
    "* **`%x`** Locale’s appropriate date representation (09/30/13)\n",
    "* **`%X`** Locale’s appropriate time representation (07:06:05)\n",
    "* **`%%`**\tA literal '%' character (%)"
   ]
  },
  {
   "cell_type": "code",
   "execution_count": 109,
   "metadata": {},
   "outputs": [],
   "source": [
    "df[\"date_key\"] = df[\"full_date\"].dt.strftime(\"%Y%m%d\")\n",
    "df[\"full_date\"] = df[\"full_date\"].dt.strftime(\"%Y-%m-%d\")\n",
    "df[\"full_date_alt\"] = df[\"full_date\"].dt.strftime(\"%m/%d/%Y\")\n",
    "df[\"year\"] = df[\"full_date\"].dt.strftime(\"%Y\")\n",
    "df[\"month_of_year\"] = df[\"full_date\"].dt.strftime(\"%m\")\n",
    "df[\"month_of_year_name\"] = df[\"full_date\"].dt.strftime(\"%b\")\n",
    "df[\"day_of_year\"] = df[\"full_date\"].dt.strftime(\"%j\")\n",
    "df[\"day_of_month\"] = df[\"full_date\"].dt.strftime(\"%d\")\n",
    "df[\"day_of_week\"] = df[\"full_date\"].dt.strftime(\"%w\")\n",
    "df[\"day_of_week_name\"] = df[\"full_date\"].dt.strftime(\"%A\")\n",
    "df[\"week_of_year\"] = df[\"full_date\"].dt.strftime(\"%U\")\n",
    "df['time'] = df['end_date'].dt.strftime('%H:%M')\n",
    "df['hour'] = df['end_date'].dt.strftime('%H')\n",
    "df['minute'] = df['end_date'].dt.strftime('%M')\n",
    "df['time_key'] = df['end_date'].dt.strftime('%H%M')"
   ]
  },
  {
   "cell_type": "markdown",
   "metadata": {},
   "source": [
    "Change Data Types:\n",
    "<table>\n",
    "<tr>\n",
    "<th>Pandas dtype</th>\n",
    "<th>Python type</th>\n",
    "<th>NumPy type</th>\n",
    "<th>Usage</th>\n",
    "</tr>\n",
    "<tr>\n",
    "<td>object</td>\n",
    "<td>str or mixed</td>\n",
    "<td>string_, unicode_, mixed types</td>\n",
    "<td>Text or mixed numeric and non-numeric values</td>\n",
    "</tr>\n",
    "<tr>\n",
    "<td>int64</td>\n",
    "<td>int</td>\n",
    "<td>int_, int8, int16, int32, int64, uint8, uint16, uint32, uint64</td>\n",
    "<td>Integer numbers</td>\n",
    "</tr>\n",
    "<tr>\n",
    "<td>float64</td>\n",
    "<td>float</td>\n",
    "<td>float_, float16, float32, float64</td>\n",
    "<td>Floating point numbers</td>\n",
    "</tr>\n",
    "<tr>\n",
    "<td>bool</td>\n",
    "<td>bool</td>\n",
    "<td>bool_</td>\n",
    "<td>True/False values</td>\n",
    "</tr>\n",
    "<tr>\n",
    "<td>datetime64</td>\n",
    "<td>NA</td>\n",
    "<td>datetime64[ns]</td>\n",
    "<td>Date and time values</td>\n",
    "</tr>\n",
    "<tr>\n",
    "<td>timedelta[ns]</td>\n",
    "<td>NA</td>\n",
    "<td>NA</td>\n",
    "<td>Differences between two datetimes</td>\n",
    "</tr>\n",
    "<tr>\n",
    "<td>category</td>\n",
    "<td>NA</td>\n",
    "<td>NA</td>\n",
    "<td>Finite list of text values</td>\n",
    "</tr>\n",
    "<table>"
   ]
  },
  {
   "cell_type": "code",
   "execution_count": null,
   "metadata": {},
   "outputs": [],
   "source": [
    "df[\"id\"] = df[\"id\"].astype(\"str\")\n",
    "df[\"date_key\"] = df[\"date_key\"].astype(\"str\")\n",
    "df[\"city\"] = df[\"city\"].astype(\"category\")\n",
    "df[\"type\"] = df[\"type\"].astype(\"category\")\n",
    "df[\"is_presented\"] = df[\"is_presented\"].astype(\"bool\")\n",
    "df[\"total_val\"] = df[\"total_val\"].astype(\"int64\")\n",
    "df[\"end_val\"] = df[\"end_val\"].astype(\"int64\")\n",
    "df[\"points\"] = df[\"points\"].astype(\"int64\")\n",
    "df[\"end_points\"] = df[\"end_points\"].astype(\"int64\")\n",
    "df[\"e_city\"] = df[\"e_city\"].astype(\"category\")\n",
    "df[\"biller_name\"] = df[\"biller_name\"].astype(\"category\")\n",
    "df[\"tab_no\"] = df[\"tab_no\"].astype(\"str\")\n",
    "df[\"car_city\"] = df[\"car_city\"].astype(\"category\")\n",
    "df[\"car_type\"] = df[\"car_type\"].astype(\"category\")\n",
    "df[\"lic_id\"] = df[\"lic_id\"].astype(\"str\")\n",
    "df[\"lic_city\"] = df[\"lic_city\"].astype(\"category\")\n",
    "df[\"lic_type\"] = df[\"lic_type\"].astype(\"category\")\n",
    "\n",
    "df.info()"
   ]
  },
  {
   "cell_type": "markdown",
   "metadata": {},
   "source": [
    "Add *is_known* column to *DImLicense* (*conditional col*)"
   ]
  },
  {
   "cell_type": "code",
   "execution_count": null,
   "metadata": {},
   "outputs": [],
   "source": [
    "df[\"is_known\"] = \"\"\n",
    "for ind in df.index:\n",
    "    if pd.isna(df.iloc[ind, 15]) and pd.isna(df.iloc[ind, 16]):\n",
    "        df.iloc[ind, 19] = 1\n",
    "    else:\n",
    "        df.iloc[ind, 19] = 0"
   ]
  },
  {
   "cell_type": "markdown",
   "metadata": {},
   "source": [
    "Add *dif_val* and *dif_points* columns (*calculated columns*) to *DimViolation*"
   ]
  },
  {
   "cell_type": "code",
   "execution_count": null,
   "metadata": {},
   "outputs": [],
   "source": [
    "df['dif_val'] = \"\"\n",
    "df['dif_points'] = \"\"\n",
    "for ind in df.index:\n",
    "    df.iloc[ind, 19] = df.iloc[ind, 5] - df.iloc[ind, 6]\n",
    "    df.iloc[ind, 20] = df.iloc[ind, 7] - df.iloc[ind, 8]"
   ]
  },
  {
   "cell_type": "markdown",
   "metadata": {},
   "source": [
    "Convert *lic_no* column from `float` to `string` in *DimLicense*"
   ]
  },
  {
   "cell_type": "code",
   "execution_count": null,
   "metadata": {},
   "outputs": [],
   "source": [
    "df[\"lic_no\"] = df[\"lic_no\"].astype(\"str\")\n",
    "sliced_text = slice(0, -2)\n",
    "for ind in df.index:\n",
    "    df.iloc[ind, 18] = df.iloc[ind, 18][sliced_text]\n",
    "df.head()"
   ]
  },
  {
   "cell_type": "markdown",
   "metadata": {},
   "source": [
    "Add *dif_days*, *dif_months*, and *dif_years* columns to *DimViolation*"
   ]
  },
  {
   "cell_type": "code",
   "execution_count": null,
   "metadata": {},
   "outputs": [],
   "source": [
    "df['dif_days'] = \"\"\n",
    "df['dif_months'] = \"\"\n",
    "df['dif_years'] = \"\"\n",
    "for ind in df.index:\n",
    "    temp = df.iloc[ind, 11] - df.iloc[ind, 1]\n",
    "    df.iloc[ind, 22] = temp // np.timedelta64(1, \"D\")\n",
    "    df.iloc[ind, 23] = temp // np.timedelta64(1, \"M\")\n",
    "    df.iloc[ind, 24] = temp // np.timedelta64(1, \"Y\")"
   ]
  },
  {
   "cell_type": "markdown",
   "metadata": {},
   "source": [
    "Drop columns"
   ]
  },
  {
   "cell_type": "code",
   "execution_count": null,
   "metadata": {},
   "outputs": [],
   "source": [
    "df.drop(columns=df.columns[0], axis=1, inplace=True)"
   ]
  }
 ],
 "metadata": {
  "interpreter": {
   "hash": "2a97c835aa520a10d6654ad56dd306e6bf25dd2bba14414fd708397e20a634e7"
  },
  "kernelspec": {
   "display_name": "Python 3.9.6 64-bit",
   "language": "python",
   "name": "python3"
  },
  "language_info": {
   "codemirror_mode": {
    "name": "ipython",
    "version": 3
   },
   "file_extension": ".py",
   "mimetype": "text/x-python",
   "name": "python",
   "nbconvert_exporter": "python",
   "pygments_lexer": "ipython3",
   "version": "3.10.1"
  },
  "orig_nbformat": 4
 },
 "nbformat": 4,
 "nbformat_minor": 2
}
