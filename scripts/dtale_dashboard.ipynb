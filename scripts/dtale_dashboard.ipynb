{
 "cells": [
  {
   "cell_type": "markdown",
   "metadata": {},
   "source": [
    "Import Packages:\n",
    "* Pandas\n",
    "* D-Tale"
   ]
  },
  {
   "cell_type": "code",
   "execution_count": 1,
   "metadata": {},
   "outputs": [],
   "source": [
    "import dtale\n",
    "import pandas as pd"
   ]
  },
  {
   "cell_type": "markdown",
   "metadata": {},
   "source": [
    "Read data file"
   ]
  },
  {
   "cell_type": "code",
   "execution_count": null,
   "metadata": {},
   "outputs": [],
   "source": [
    "file = \"../data/VIO_v5.1.xlsx\"\n",
    "df = pd.read_excel(file)\n",
    "df.info()"
   ]
  },
  {
   "cell_type": "code",
   "execution_count": null,
   "metadata": {},
   "outputs": [],
   "source": [
    "df[\"id\"] = df[\"id\"].astype(\"str\")\n",
    "df[\"date\"] = df[\"date\"].astype(\"datetime64[ns]\")\n",
    "df[\"city\"] = df[\"city\"].astype(\"str\")\n",
    "df[\"type\"] = df[\"type\"].astype(\"str\")\n",
    "df[\"is_presented\"] = df[\"is_presented\"].astype(\"bool\")\n",
    "df[\"total_val\"] = df[\"total_val\"].astype(\"int64\")\n",
    "df[\"end_val\"] = df[\"end_val\"].astype(\"int64\")\n",
    "df[\"dif_val\"] = df[\"dif_val\"].astype(\"int64\")\n",
    "df[\"points\"] = df[\"points\"].astype(\"int64\")\n",
    "df[\"end_points\"] = df[\"end_points\"].astype(\"int64\")\n",
    "df[\"dif_points\"] = df[\"dif_points\"].astype(\"int64\")\n",
    "df[\"end_date\"] = df[\"end_date\"].astype(\"datetime64[ns]\")\n",
    "# df[\"dif_days\"] = df[\"dif_days\"].astype(\"int64\")\n",
    "# df[\"dif_months\"] = df[\"dif_months\"].astype(\"int64\")\n",
    "# df[\"dif_years\"] = df[\"dif_years\"].astype(\"int64\")\n",
    "df[\"e_city\"] = df[\"e_city\"].astype(\"str\")\n",
    "df[\"biller_name\"] = df[\"biller_name\"].astype(\"str\")\n",
    "df[\"tab_no\"] = df[\"tab_no\"].astype(\"str\")\n",
    "df[\"car_city\"] = df[\"car_city\"].astype(\"str\")\n",
    "df[\"car_type\"] = df[\"car_type\"].astype(\"str\")\n",
    "df[\"lic_no\"] = df[\"lic_no\"].astype(\"str\")\n",
    "sliced_text = slice(0, -2)\n",
    "for ind in df.index:\n",
    "    df.iloc[ind, 20] = df.iloc[ind, 20][sliced_text]\n",
    "df[\"lic_city\"] = df[\"lic_city\"].astype(\"str\")\n",
    "df[\"lic_type\"] = df[\"lic_type\"].astype(\"str\")\n",
    "df[\"is_known\"] = df[\"is_known\"].astype(\"bool\")"
   ]
  },
  {
   "cell_type": "code",
   "execution_count": 8,
   "metadata": {},
   "outputs": [],
   "source": [
    "d = dtale.show(df)\n",
    "d.open_browser()"
   ]
  }
 ],
 "metadata": {
  "interpreter": {
   "hash": "2a97c835aa520a10d6654ad56dd306e6bf25dd2bba14414fd708397e20a634e7"
  },
  "kernelspec": {
   "display_name": "Python 3.9.6 64-bit",
   "language": "python",
   "name": "python3"
  },
  "language_info": {
   "codemirror_mode": {
    "name": "ipython",
    "version": 3
   },
   "file_extension": ".py",
   "mimetype": "text/x-python",
   "name": "python",
   "nbconvert_exporter": "python",
   "pygments_lexer": "ipython3",
   "version": "3.10.1"
  },
  "orig_nbformat": 4
 },
 "nbformat": 4,
 "nbformat_minor": 2
}
